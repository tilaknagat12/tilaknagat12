{
 "cells": [
  {
   "cell_type": "code",
   "execution_count": 1,
   "id": "57f87a95",
   "metadata": {},
   "outputs": [
    {
     "name": "stdout",
     "output_type": "stream",
     "text": [
      "cybrom\n",
      "30\n"
     ]
    }
   ],
   "source": [
    "name = 'cybrom'\n",
    "\n",
    "print(name)\n",
    "\n",
    "\n",
    "x = 10\n",
    "y = 20\n",
    "\n",
    "print(x+y)"
   ]
  },
  {
   "cell_type": "code",
   "execution_count": 3,
   "id": "5fffbe71",
   "metadata": {},
   "outputs": [
    {
     "name": "stdout",
     "output_type": "stream",
     "text": [
      "7\n"
     ]
    }
   ],
   "source": [
    "a = 3\n",
    "b = 4\n",
    "print(a+b)"
   ]
  },
  {
   "cell_type": "code",
   "execution_count": 3,
   "id": "31b23cf2",
   "metadata": {},
   "outputs": [
    {
     "name": "stdout",
     "output_type": "stream",
     "text": [
      "tilak\n",
      "<class 'str'>\n",
      "21\n",
      "<class 'int'>\n",
      "85.2\n",
      "<class 'float'>\n",
      "tilak 21 85.2\n",
      "name is :  tilak age is :  21 percent is :  85.2\n"
     ]
    }
   ],
   "source": [
    "name = 'tilak'\n",
    "print(name)\n",
    "print(type(name))\n",
    "\n",
    "age = 21\n",
    "print(age)\n",
    "print(type(age))\n",
    "\n",
    "percent = 85.2\n",
    "print(percent)\n",
    "print(type(percent))\n",
    "\n",
    "print(name,age,percent)\n",
    "\n",
    "\n",
    "\n",
    "print('name is : ',name,'age is : ',age,'percent is : ',percent )\n"
   ]
  },
  {
   "cell_type": "code",
   "execution_count": 12,
   "id": "2bcd875f",
   "metadata": {},
   "outputs": [
    {
     "name": "stdout",
     "output_type": "stream",
     "text": [
      "welcome to cybrom technology bhopal\n",
      "w\n",
      "m\n",
      "welcome\n",
      "welcome to cybrom\n",
      "cybrom technology bhopal\n",
      "welcome to cybrom\n",
      "wceoyo\n",
      "wceoyothlyha\n",
      "wceoyothlyha\n"
     ]
    }
   ],
   "source": [
    "msg = 'welcome to cybrom technology bhopal'\n",
    "\n",
    "print(msg)\n",
    "print(msg[0])\n",
    "print(msg[5])\n",
    "print(msg[0:7])\n",
    "print(msg[0:17])\n",
    "print(msg[11:])\n",
    "print(msg[:17])\n",
    "print(msg[0:17:3])\n",
    "print(msg[0::3])\n",
    "print(msg[::3])\n",
    "\n"
   ]
  },
  {
   "cell_type": "code",
   "execution_count": 30,
   "id": "89bacd75",
   "metadata": {},
   "outputs": [
    {
     "name": "stdout",
     "output_type": "stream",
     "text": [
      "<class 'str'>\n",
      "WELCOME TO CYBROM TECHNOLOGY BHOPAL\n",
      "WELCOME TO CYBROM TECHNOLOGY BHOPAL\n",
      "welcome to cybrom technology bhopal\n",
      "WELCOME TO CYBROM TECHNOLOGY BHOPAL\n",
      "['welcome', 'to', 'cybrom', 'technology', 'bhopal']\n",
      "welcome to cybrom technology indore\n"
     ]
    }
   ],
   "source": [
    "#string methods\n",
    "#==============\n",
    "#upper lower swapcase split replace\n",
    "\n",
    "\n",
    "msg = 'welcome to cybrom technology bhopal'\n",
    "print(type(msg))\n",
    "\n",
    "\n",
    "\n",
    "print(msg.upper())\n",
    "\n",
    "r = msg.upper()\n",
    "print(r)\n",
    "\n",
    "print(msg.lower())\n",
    "\n",
    "print(msg.swapcase())\n",
    "\n",
    "print(msg.split())\n",
    "      \n",
    "      \n",
    "b = msg.replace('bhopal','indore')\n",
    "print(b)\n",
    "      \n",
    "\n",
    "\n",
    "      \n",
    "\n"
   ]
  },
  {
   "cell_type": "code",
   "execution_count": 32,
   "id": "2fee8691",
   "metadata": {},
   "outputs": [
    {
     "name": "stdout",
     "output_type": "stream",
     "text": [
      "b is greater\n"
     ]
    }
   ],
   "source": [
    "#conditional statement\n",
    "#=====================\n",
    "\n",
    "\n",
    "a = 200\n",
    "b = 300\n",
    "\n",
    "if a>b:\n",
    "    print('a is greater')\n",
    "    \n",
    "elif b>a:\n",
    "    print('b is greater')\n",
    "    \n",
    "else:\n",
    "    print('both are equal')\n",
    "    \n",
    "    "
   ]
  },
  {
   "cell_type": "code",
   "execution_count": 4,
   "id": "98a6ce59",
   "metadata": {},
   "outputs": [
    {
     "name": "stdout",
     "output_type": "stream",
     "text": [
      "enter the value of a : 43\n",
      "enter the value of b : 54\n",
      "B is greater\n"
     ]
    }
   ],
   "source": [
    "a = int(input('enter the value of a : '))\n",
    "b = int(input('enter the value of b : '))\n",
    "\n",
    "if a>b:\n",
    "    print('A is greater')\n",
    "    if a>b:\n",
    "        print('thankyou')\n",
    "        \n",
    "elif b>a:\n",
    "    print('B is greater')\n",
    "    \n",
    "else:\n",
    "    print('Both are equal')\n",
    "    "
   ]
  },
  {
   "cell_type": "code",
   "execution_count": 39,
   "id": "9c031e6d",
   "metadata": {},
   "outputs": [
    {
     "name": "stdout",
     "output_type": "stream",
     "text": [
      "enter the username : admin\n",
      "enter the password : tilak\n",
      "login successfull\n"
     ]
    }
   ],
   "source": [
    "user = 'admin'\n",
    "password = 'tilak'\n",
    "\n",
    "u = (input('enter the username : '))\n",
    "p = (input('enter the password : '))\n",
    "\n",
    "if u==user and p==password:\n",
    "    print('login successfull')   \n",
    "else:\n",
    "    print('login failed')"
   ]
  },
  {
   "cell_type": "code",
   "execution_count": 40,
   "id": "d634498b",
   "metadata": {},
   "outputs": [
    {
     "name": "stdout",
     "output_type": "stream",
     "text": [
      "enter the username :bfj\n",
      "wrong\n",
      "enter the username :adim\n",
      "enter the password :tilak\n",
      "login successfull\n"
     ]
    }
   ],
   "source": [
    "user = 'adim'\n",
    "pasword = 'tilak'\n",
    "\n",
    "while True:\n",
    "    u = input('enter the username :')\n",
    "    if u==user:\n",
    "        while True:\n",
    "            p = input('enter the password :')\n",
    "            if p==pasword:\n",
    "                print('login successfull')\n",
    "                break\n",
    "                \n",
    "            else:\n",
    "                print('wrong pasword')\n",
    "        break         \n",
    "    else:\n",
    "        print(\"wrong\")"
   ]
  },
  {
   "cell_type": "code",
   "execution_count": 41,
   "id": "dd49fe7f",
   "metadata": {},
   "outputs": [
    {
     "name": "stdout",
     "output_type": "stream",
     "text": [
      "m sorry\n",
      "a sorry\n",
      "n thankyou\n",
      "g sorry\n",
      "o sorry\n"
     ]
    }
   ],
   "source": [
    "friut = 'mango'\n",
    "\n",
    "for x in friut:\n",
    "    if x=='n':\n",
    "        print(x,'thankyou')\n",
    "        \n",
    "    else:\n",
    "        print(x,'sorry')\n",
    "        \n",
    "        \n",
    "        "
   ]
  },
  {
   "cell_type": "code",
   "execution_count": 42,
   "id": "2b14b9f7",
   "metadata": {},
   "outputs": [
    {
     "name": "stdout",
     "output_type": "stream",
     "text": [
      "orange\n",
      "red\n",
      "black\n",
      "pink\n",
      "blue\n"
     ]
    }
   ],
   "source": [
    "colour = ['orange','red','black','pink','blue']\n",
    "\n",
    "for x in colour:\n",
    "    print(x)   "
   ]
  },
  {
   "cell_type": "code",
   "execution_count": 45,
   "id": "67526a10",
   "metadata": {},
   "outputs": [
    {
     "name": "stdout",
     "output_type": "stream",
     "text": [
      "2\n",
      "4\n",
      "6\n",
      "8\n",
      "10\n"
     ]
    }
   ],
   "source": [
    "nums = [1,2,3,4,5,6,7,8,9,10]\n",
    "\n",
    "for x in nums:\n",
    "    if x%2==0:\n",
    "        print(x)\n",
    "        \n",
    "   "
   ]
  },
  {
   "cell_type": "code",
   "execution_count": 11,
   "id": "314f23f4",
   "metadata": {},
   "outputs": [
    {
     "name": "stdout",
     "output_type": "stream",
     "text": [
      "thankyou\n",
      "thankyou\n",
      "thankyou\n",
      "thankyou\n"
     ]
    }
   ],
   "source": [
    "for x in range(1,5):\n",
    "    print('thankyou')"
   ]
  },
  {
   "cell_type": "code",
   "execution_count": 9,
   "id": "07f18685",
   "metadata": {},
   "outputs": [
    {
     "name": "stdout",
     "output_type": "stream",
     "text": [
      "eneter the number : 1762\n",
      "even number\n"
     ]
    }
   ],
   "source": [
    "#wap to find even and odd number?\n",
    "\n",
    "n = int(input('eneter the number : '))\n",
    "\n",
    "\n",
    "if n%2==0:\n",
    "    print('even number')\n",
    "    \n",
    "elif n%2!=0:\n",
    "    print('odd number')\n",
    "    \n",
    "    "
   ]
  },
  {
   "cell_type": "code",
   "execution_count": 8,
   "id": "25610f4b",
   "metadata": {},
   "outputs": [
    {
     "name": "stdout",
     "output_type": "stream",
     "text": [
      "enter the number : 1762\n",
      "positive number\n"
     ]
    }
   ],
   "source": [
    "n = int(input('enter the number : '))\n",
    "\n",
    "if n>0:\n",
    "    print('positive number')\n",
    "    \n",
    "elif n<0:\n",
    "    print('negative number')\n",
    "    "
   ]
  },
  {
   "cell_type": "code",
   "execution_count": 5,
   "id": "3c609c0f",
   "metadata": {},
   "outputs": [
    {
     "name": "stdout",
     "output_type": "stream",
     "text": [
      "enter the table no. to print : 4\n",
      "4 * 1 = 4\n",
      "4 * 2 = 8\n",
      "4 * 3 = 12\n",
      "4 * 4 = 16\n",
      "4 * 5 = 20\n",
      "4 * 6 = 24\n",
      "4 * 7 = 28\n",
      "4 * 8 = 32\n",
      "4 * 9 = 36\n",
      "4 * 10 = 40\n"
     ]
    }
   ],
   "source": [
    "t = int(input('enter the table no. to print : '))\n",
    "\n",
    "for x in range(1,11):\n",
    "    print(t,'*',x,'=',t*x)"
   ]
  },
  {
   "cell_type": "code",
   "execution_count": 54,
   "id": "94a36954",
   "metadata": {},
   "outputs": [
    {
     "name": "stdout",
     "output_type": "stream",
     "text": [
      "[1, 4, 9, 16, 25, 36, 49, 64, 81, 100]\n"
     ]
    }
   ],
   "source": [
    "item1 = [1,2,3,4,5,6,7,8,9,10]\n",
    "item2 = []\n",
    "\n",
    "for x in item1:\n",
    "    r = x*x\n",
    "    item2.append(r)\n",
    "    \n",
    "print(item2)\n"
   ]
  },
  {
   "cell_type": "code",
   "execution_count": 56,
   "id": "6992ddab",
   "metadata": {},
   "outputs": [
    {
     "name": "stdout",
     "output_type": "stream",
     "text": [
      "[100, 400]\n"
     ]
    }
   ],
   "source": [
    "details1 = ['hi',10,'thankyou',20]\n",
    "details2 = []\n",
    "\n",
    "for x in details1:\n",
    "    if type(x)==int:\n",
    "        r = x*x\n",
    "        details2.append(r)\n",
    "        \n",
    "print(details2)"
   ]
  },
  {
   "cell_type": "code",
   "execution_count": 57,
   "id": "906d2ba9",
   "metadata": {},
   "outputs": [
    {
     "name": "stdout",
     "output_type": "stream",
     "text": [
      "55\n"
     ]
    }
   ],
   "source": [
    "items = [1,2,3,4,5,6,7,8,9,10]\n",
    "\n",
    "s = 0\n",
    "for x in items:\n",
    "    s+=x\n",
    "    \n",
    "print(s)\n"
   ]
  },
  {
   "cell_type": "code",
   "execution_count": 5,
   "id": "81ae41a7",
   "metadata": {},
   "outputs": [
    {
     "name": "stdout",
     "output_type": "stream",
     "text": [
      "press1 to add your name : \n",
      "press2 to add your roll no : \n",
      "press3 to add your subject : \n",
      "press4 to logout\n"
     ]
    },
    {
     "ename": "KeyboardInterrupt",
     "evalue": "Interrupted by user",
     "output_type": "error",
     "traceback": [
      "\u001b[1;31m---------------------------------------------------------------------------\u001b[0m",
      "\u001b[1;31mKeyboardInterrupt\u001b[0m                         Traceback (most recent call last)",
      "\u001b[1;32m~\\AppData\\Local\\Temp/ipykernel_11144/1061079610.py\u001b[0m in \u001b[0;36m<module>\u001b[1;34m\u001b[0m\n\u001b[0;32m      5\u001b[0m \u001b[1;33m\u001b[0m\u001b[0m\n\u001b[0;32m      6\u001b[0m \u001b[1;32mwhile\u001b[0m \u001b[1;32mTrue\u001b[0m\u001b[1;33m:\u001b[0m\u001b[1;33m\u001b[0m\u001b[1;33m\u001b[0m\u001b[0m\n\u001b[1;32m----> 7\u001b[1;33m     \u001b[0mn\u001b[0m \u001b[1;33m=\u001b[0m \u001b[0mint\u001b[0m\u001b[1;33m(\u001b[0m\u001b[0minput\u001b[0m\u001b[1;33m(\u001b[0m\u001b[1;34m'enter your chioce :'\u001b[0m\u001b[1;33m)\u001b[0m\u001b[1;33m)\u001b[0m\u001b[1;33m\u001b[0m\u001b[1;33m\u001b[0m\u001b[0m\n\u001b[0m\u001b[0;32m      8\u001b[0m \u001b[1;33m\u001b[0m\u001b[0m\n\u001b[0;32m      9\u001b[0m     \u001b[1;32mif\u001b[0m \u001b[0mn\u001b[0m\u001b[1;33m==\u001b[0m\u001b[1;36m1\u001b[0m\u001b[1;33m:\u001b[0m\u001b[1;33m\u001b[0m\u001b[1;33m\u001b[0m\u001b[0m\n",
      "\u001b[1;32m~\\AppData\\Local\\Programs\\Python\\Python39\\lib\\site-packages\\ipykernel\\kernelbase.py\u001b[0m in \u001b[0;36mraw_input\u001b[1;34m(self, prompt)\u001b[0m\n\u001b[0;32m   1004\u001b[0m                 \u001b[1;34m\"raw_input was called, but this frontend does not support input requests.\"\u001b[0m\u001b[1;33m\u001b[0m\u001b[1;33m\u001b[0m\u001b[0m\n\u001b[0;32m   1005\u001b[0m             )\n\u001b[1;32m-> 1006\u001b[1;33m         return self._input_request(\n\u001b[0m\u001b[0;32m   1007\u001b[0m             \u001b[0mstr\u001b[0m\u001b[1;33m(\u001b[0m\u001b[0mprompt\u001b[0m\u001b[1;33m)\u001b[0m\u001b[1;33m,\u001b[0m\u001b[1;33m\u001b[0m\u001b[1;33m\u001b[0m\u001b[0m\n\u001b[0;32m   1008\u001b[0m             \u001b[0mself\u001b[0m\u001b[1;33m.\u001b[0m\u001b[0m_parent_ident\u001b[0m\u001b[1;33m[\u001b[0m\u001b[1;34m\"shell\"\u001b[0m\u001b[1;33m]\u001b[0m\u001b[1;33m,\u001b[0m\u001b[1;33m\u001b[0m\u001b[1;33m\u001b[0m\u001b[0m\n",
      "\u001b[1;32m~\\AppData\\Local\\Programs\\Python\\Python39\\lib\\site-packages\\ipykernel\\kernelbase.py\u001b[0m in \u001b[0;36m_input_request\u001b[1;34m(self, prompt, ident, parent, password)\u001b[0m\n\u001b[0;32m   1049\u001b[0m             \u001b[1;32mexcept\u001b[0m \u001b[0mKeyboardInterrupt\u001b[0m\u001b[1;33m:\u001b[0m\u001b[1;33m\u001b[0m\u001b[1;33m\u001b[0m\u001b[0m\n\u001b[0;32m   1050\u001b[0m                 \u001b[1;31m# re-raise KeyboardInterrupt, to truncate traceback\u001b[0m\u001b[1;33m\u001b[0m\u001b[1;33m\u001b[0m\u001b[0m\n\u001b[1;32m-> 1051\u001b[1;33m                 \u001b[1;32mraise\u001b[0m \u001b[0mKeyboardInterrupt\u001b[0m\u001b[1;33m(\u001b[0m\u001b[1;34m\"Interrupted by user\"\u001b[0m\u001b[1;33m)\u001b[0m \u001b[1;32mfrom\u001b[0m \u001b[1;32mNone\u001b[0m\u001b[1;33m\u001b[0m\u001b[1;33m\u001b[0m\u001b[0m\n\u001b[0m\u001b[0;32m   1052\u001b[0m             \u001b[1;32mexcept\u001b[0m \u001b[0mException\u001b[0m\u001b[1;33m:\u001b[0m\u001b[1;33m\u001b[0m\u001b[1;33m\u001b[0m\u001b[0m\n\u001b[0;32m   1053\u001b[0m                 \u001b[0mself\u001b[0m\u001b[1;33m.\u001b[0m\u001b[0mlog\u001b[0m\u001b[1;33m.\u001b[0m\u001b[0mwarning\u001b[0m\u001b[1;33m(\u001b[0m\u001b[1;34m\"Invalid Message:\"\u001b[0m\u001b[1;33m,\u001b[0m \u001b[0mexc_info\u001b[0m\u001b[1;33m=\u001b[0m\u001b[1;32mTrue\u001b[0m\u001b[1;33m)\u001b[0m\u001b[1;33m\u001b[0m\u001b[1;33m\u001b[0m\u001b[0m\n",
      "\u001b[1;31mKeyboardInterrupt\u001b[0m: Interrupted by user"
     ]
    }
   ],
   "source": [
    "print('press1 to add your name : ')\n",
    "print('press2 to add your roll no : ')\n",
    "print('press3 to add your subject : ')\n",
    "print('press4 to logout')\n",
    "\n",
    "while True:\n",
    "    n = int(input('enter your chioce :'))\n",
    "    \n",
    "    if n==1:\n",
    "        name = input('enter your name : ')\n",
    "        print(name)\n",
    "        \n",
    "    elif n==2:\n",
    "        rn = input('enter your roll no :')\n",
    "        print(rn)\n",
    "        \n",
    "    elif n==3:\n",
    "        \n",
    "        sb = input('enter your subject : ')\n",
    "        print(sb)\n",
    "      \n",
    "    elif n==4:\n",
    "        exit()\n",
    "           \n",
    "    else:\n",
    "        print('invalid input')\n"
   ]
  },
  {
   "cell_type": "code",
   "execution_count": 4,
   "id": "497f19ab",
   "metadata": {},
   "outputs": [
    {
     "name": "stdout",
     "output_type": "stream",
     "text": [
      "1\n",
      "2\n",
      "3\n",
      "4\n",
      "5\n"
     ]
    }
   ],
   "source": [
    "#transfer statement\n",
    "#==================\n",
    "\n",
    "#break #continue #pass\n",
    "#----------------------------------------------------------------------------------------------------------------------\n",
    "\n",
    "\n",
    "#break\n",
    "\n",
    "nums = [1,2,3,4,5,6,7,8,9,10]\n",
    "\n",
    "for x in nums:\n",
    "    if x==6:\n",
    "        break\n",
    "    print(x)\n",
    "\n",
    "\n"
   ]
  },
  {
   "cell_type": "code",
   "execution_count": 5,
   "id": "9ebed1dd",
   "metadata": {},
   "outputs": [
    {
     "name": "stdout",
     "output_type": "stream",
     "text": [
      "1\n",
      "2\n",
      "3\n",
      "4\n",
      "5\n",
      "6\n"
     ]
    }
   ],
   "source": [
    "nums = [1,2,3,4,5,6,7,8,9,10]\n",
    "\n",
    "for x in nums:\n",
    "    print(x)\n",
    "    if x==6:\n",
    "        break    \n",
    "        "
   ]
  },
  {
   "cell_type": "code",
   "execution_count": 9,
   "id": "55603c5e",
   "metadata": {},
   "outputs": [
    {
     "name": "stdout",
     "output_type": "stream",
     "text": [
      "green\n",
      "red\n"
     ]
    }
   ],
   "source": [
    "colour = ['green','red','blue','pink','yellow']\n",
    "\n",
    "for x in colour:\n",
    "    print(x)\n",
    "    if x=='red':\n",
    "        break"
   ]
  },
  {
   "cell_type": "code",
   "execution_count": 12,
   "id": "9af2bea8",
   "metadata": {},
   "outputs": [
    {
     "name": "stdout",
     "output_type": "stream",
     "text": [
      "1\n",
      "2\n",
      "3\n",
      "4\n",
      "5\n",
      "7\n",
      "8\n",
      "9\n",
      "10\n"
     ]
    }
   ],
   "source": [
    "#continue\n",
    "\n",
    "\n",
    "nums = [1,2,3,4,5,6,7,8,9,10]\n",
    "\n",
    "for x in nums:\n",
    "    if x==6:\n",
    "        continue\n",
    "    print(x)"
   ]
  },
  {
   "cell_type": "code",
   "execution_count": 13,
   "id": "dccb4aed",
   "metadata": {},
   "outputs": [
    {
     "name": "stdout",
     "output_type": "stream",
     "text": [
      "1\n",
      "yes\n",
      "2\n",
      "yes\n",
      "3\n",
      "yes\n",
      "4\n",
      "yes\n",
      "5\n",
      "yes\n",
      "7\n",
      "yes\n",
      "8\n",
      "yes\n",
      "9\n",
      "yes\n",
      "10\n",
      "yes\n"
     ]
    }
   ],
   "source": [
    "nums = [1,2,3,4,5,6,7,8,9,10]\n",
    "\n",
    "for x in nums:\n",
    "    if x==6:\n",
    "        continue\n",
    "    print(x)\n",
    "    print('yes')"
   ]
  },
  {
   "cell_type": "code",
   "execution_count": 14,
   "id": "c82abb48",
   "metadata": {},
   "outputs": [
    {
     "name": "stdout",
     "output_type": "stream",
     "text": [
      "1\n",
      "yes\n",
      "2\n",
      "yes\n",
      "3\n",
      "yes\n",
      "4\n",
      "yes\n",
      "5\n",
      "yes\n",
      "6\n",
      "yes\n",
      "7\n",
      "yes\n",
      "8\n",
      "yes\n",
      "9\n",
      "yes\n",
      "10\n",
      "yes\n"
     ]
    }
   ],
   "source": [
    "#pass\n",
    "\n",
    "nums = [1,2,3,4,5,6,7,8,9,10]\n",
    "\n",
    "for x in nums:\n",
    "    if x==6:\n",
    "        pass\n",
    "    print(x)\n",
    "    print('yes')"
   ]
  },
  {
   "cell_type": "code",
   "execution_count": 42,
   "id": "d3cb72d8",
   "metadata": {},
   "outputs": [],
   "source": [
    "\n",
    "\n",
    "for x in range(1,11):\n",
    "    pass\n"
   ]
  },
  {
   "cell_type": "code",
   "execution_count": null,
   "id": "3bed6d53",
   "metadata": {},
   "outputs": [],
   "source": [
    "\n",
    "nums = []\n",
    "\n",
    "for x in range(1,11):\n",
    "    n = int(input('enter the number : '))\n",
    "    nums.append(n)\n",
    "            \n",
    "print(nums)"
   ]
  },
  {
   "cell_type": "code",
   "execution_count": 36,
   "id": "923efe89",
   "metadata": {},
   "outputs": [
    {
     "name": "stdout",
     "output_type": "stream",
     "text": [
      "thankyou\n",
      "thankyou\n",
      "thankyou\n"
     ]
    }
   ],
   "source": [
    "#function\n",
    "#========\n",
    "\n",
    "def msg():\n",
    "    print('thankyou')\n",
    "    \n",
    "msg()\n",
    "msg()\n",
    "msg()\n",
    "\n",
    "    "
   ]
  },
  {
   "cell_type": "code",
   "execution_count": 41,
   "id": "7b5a18eb",
   "metadata": {},
   "outputs": [
    {
     "name": "stdout",
     "output_type": "stream",
     "text": [
      "------------------------------------------------------\n",
      "sorry\n",
      "sorry\n",
      "sorry\n",
      "------------------------------------------------------\n",
      "welcome\n",
      "welcome\n",
      "welcome\n",
      "welcome\n"
     ]
    }
   ],
   "source": [
    "print('------------------------------------------------------')\n",
    "for x in range(1,4):\n",
    "    print('sorry')\n",
    "print('------------------------------------------------------')\n",
    "for x in range(1,5):\n",
    "    print('welcome')\n",
    "\n"
   ]
  },
  {
   "cell_type": "code",
   "execution_count": 3,
   "id": "8ef9eae8",
   "metadata": {},
   "outputs": [
    {
     "name": "stdout",
     "output_type": "stream",
     "text": [
      "30\n"
     ]
    }
   ],
   "source": [
    "def sum():\n",
    "    a=10\n",
    "    b=20\n",
    "    c=a+b\n",
    "    print(c)\n",
    "    \n",
    "sum()"
   ]
  },
  {
   "cell_type": "code",
   "execution_count": 5,
   "id": "7ded9212",
   "metadata": {},
   "outputs": [
    {
     "name": "stdout",
     "output_type": "stream",
     "text": [
      "press 1 to add your details\n",
      "enter your choice : 1\n",
      "enter your name : tilak naga\n",
      "enter your roll no. : 42\n",
      "enter your choice : 2\n",
      "enter your choice : 1\n"
     ]
    },
    {
     "ename": "KeyboardInterrupt",
     "evalue": "Interrupted by user",
     "output_type": "error",
     "traceback": [
      "\u001b[1;31m---------------------------------------------------------------------------\u001b[0m",
      "\u001b[1;31mKeyboardInterrupt\u001b[0m                         Traceback (most recent call last)",
      "\u001b[1;32m~\\AppData\\Local\\Temp/ipykernel_14308/1987193238.py\u001b[0m in \u001b[0;36m<module>\u001b[1;34m\u001b[0m\n\u001b[0;32m      9\u001b[0m \u001b[1;33m\u001b[0m\u001b[0m\n\u001b[0;32m     10\u001b[0m     \u001b[1;32mif\u001b[0m \u001b[0mn\u001b[0m\u001b[1;33m==\u001b[0m\u001b[1;36m1\u001b[0m\u001b[1;33m:\u001b[0m\u001b[1;33m\u001b[0m\u001b[1;33m\u001b[0m\u001b[0m\n\u001b[1;32m---> 11\u001b[1;33m         \u001b[0mdetails\u001b[0m\u001b[1;33m(\u001b[0m\u001b[1;33m)\u001b[0m\u001b[1;33m\u001b[0m\u001b[1;33m\u001b[0m\u001b[0m\n\u001b[0m\u001b[0;32m     12\u001b[0m \u001b[1;33m\u001b[0m\u001b[0m\n\u001b[0;32m     13\u001b[0m \u001b[1;33m\u001b[0m\u001b[0m\n",
      "\u001b[1;32m~\\AppData\\Local\\Temp/ipykernel_14308/1987193238.py\u001b[0m in \u001b[0;36mdetails\u001b[1;34m()\u001b[0m\n\u001b[0;32m      2\u001b[0m \u001b[1;33m\u001b[0m\u001b[0m\n\u001b[0;32m      3\u001b[0m \u001b[1;32mdef\u001b[0m \u001b[0mdetails\u001b[0m\u001b[1;33m(\u001b[0m\u001b[1;33m)\u001b[0m\u001b[1;33m:\u001b[0m\u001b[1;33m\u001b[0m\u001b[1;33m\u001b[0m\u001b[0m\n\u001b[1;32m----> 4\u001b[1;33m     \u001b[0mnm\u001b[0m \u001b[1;33m=\u001b[0m \u001b[0minput\u001b[0m\u001b[1;33m(\u001b[0m\u001b[1;34m'enter your name : '\u001b[0m\u001b[1;33m)\u001b[0m\u001b[1;33m\u001b[0m\u001b[1;33m\u001b[0m\u001b[0m\n\u001b[0m\u001b[0;32m      5\u001b[0m     \u001b[0mrn\u001b[0m \u001b[1;33m=\u001b[0m \u001b[0minput\u001b[0m\u001b[1;33m(\u001b[0m\u001b[1;34m'enter your roll no. : '\u001b[0m\u001b[1;33m)\u001b[0m\u001b[1;33m\u001b[0m\u001b[1;33m\u001b[0m\u001b[0m\n\u001b[0;32m      6\u001b[0m \u001b[1;33m\u001b[0m\u001b[0m\n",
      "\u001b[1;32m~\\AppData\\Local\\Programs\\Python\\Python39\\lib\\site-packages\\ipykernel\\kernelbase.py\u001b[0m in \u001b[0;36mraw_input\u001b[1;34m(self, prompt)\u001b[0m\n\u001b[0;32m   1004\u001b[0m                 \u001b[1;34m\"raw_input was called, but this frontend does not support input requests.\"\u001b[0m\u001b[1;33m\u001b[0m\u001b[1;33m\u001b[0m\u001b[0m\n\u001b[0;32m   1005\u001b[0m             )\n\u001b[1;32m-> 1006\u001b[1;33m         return self._input_request(\n\u001b[0m\u001b[0;32m   1007\u001b[0m             \u001b[0mstr\u001b[0m\u001b[1;33m(\u001b[0m\u001b[0mprompt\u001b[0m\u001b[1;33m)\u001b[0m\u001b[1;33m,\u001b[0m\u001b[1;33m\u001b[0m\u001b[1;33m\u001b[0m\u001b[0m\n\u001b[0;32m   1008\u001b[0m             \u001b[0mself\u001b[0m\u001b[1;33m.\u001b[0m\u001b[0m_parent_ident\u001b[0m\u001b[1;33m[\u001b[0m\u001b[1;34m\"shell\"\u001b[0m\u001b[1;33m]\u001b[0m\u001b[1;33m,\u001b[0m\u001b[1;33m\u001b[0m\u001b[1;33m\u001b[0m\u001b[0m\n",
      "\u001b[1;32m~\\AppData\\Local\\Programs\\Python\\Python39\\lib\\site-packages\\ipykernel\\kernelbase.py\u001b[0m in \u001b[0;36m_input_request\u001b[1;34m(self, prompt, ident, parent, password)\u001b[0m\n\u001b[0;32m   1049\u001b[0m             \u001b[1;32mexcept\u001b[0m \u001b[0mKeyboardInterrupt\u001b[0m\u001b[1;33m:\u001b[0m\u001b[1;33m\u001b[0m\u001b[1;33m\u001b[0m\u001b[0m\n\u001b[0;32m   1050\u001b[0m                 \u001b[1;31m# re-raise KeyboardInterrupt, to truncate traceback\u001b[0m\u001b[1;33m\u001b[0m\u001b[1;33m\u001b[0m\u001b[0m\n\u001b[1;32m-> 1051\u001b[1;33m                 \u001b[1;32mraise\u001b[0m \u001b[0mKeyboardInterrupt\u001b[0m\u001b[1;33m(\u001b[0m\u001b[1;34m\"Interrupted by user\"\u001b[0m\u001b[1;33m)\u001b[0m \u001b[1;32mfrom\u001b[0m \u001b[1;32mNone\u001b[0m\u001b[1;33m\u001b[0m\u001b[1;33m\u001b[0m\u001b[0m\n\u001b[0m\u001b[0;32m   1052\u001b[0m             \u001b[1;32mexcept\u001b[0m \u001b[0mException\u001b[0m\u001b[1;33m:\u001b[0m\u001b[1;33m\u001b[0m\u001b[1;33m\u001b[0m\u001b[0m\n\u001b[0;32m   1053\u001b[0m                 \u001b[0mself\u001b[0m\u001b[1;33m.\u001b[0m\u001b[0mlog\u001b[0m\u001b[1;33m.\u001b[0m\u001b[0mwarning\u001b[0m\u001b[1;33m(\u001b[0m\u001b[1;34m\"Invalid Message:\"\u001b[0m\u001b[1;33m,\u001b[0m \u001b[0mexc_info\u001b[0m\u001b[1;33m=\u001b[0m\u001b[1;32mTrue\u001b[0m\u001b[1;33m)\u001b[0m\u001b[1;33m\u001b[0m\u001b[1;33m\u001b[0m\u001b[0m\n",
      "\u001b[1;31mKeyboardInterrupt\u001b[0m: Interrupted by user"
     ]
    }
   ],
   "source": [
    "print('press 1 to add your details')\n",
    "\n",
    "def details():\n",
    "    nm = input('enter your name : ')\n",
    "    rn = input('enter your roll no. : ')\n",
    "    \n",
    "while 1==1:\n",
    "    n = int(input('enter your choice : '))\n",
    "    \n",
    "    if n==1:\n",
    "        details()\n",
    "    \n",
    "\n"
   ]
  },
  {
   "cell_type": "code",
   "execution_count": 11,
   "id": "23295b38",
   "metadata": {},
   "outputs": [
    {
     "name": "stdout",
     "output_type": "stream",
     "text": [
      "enter the number : 8\n",
      "number is not prime\n"
     ]
    }
   ],
   "source": [
    "n = int(input('enter the number : '))\n",
    "for x in range(2,n):\n",
    "    if n%2==0:\n",
    "        print('number is not prime') \n",
    "        break\n",
    "    else:\n",
    "        print('prime number')\n",
    "        "
   ]
  },
  {
   "cell_type": "code",
   "execution_count": 13,
   "id": "1740ae76",
   "metadata": {},
   "outputs": [
    {
     "name": "stdout",
     "output_type": "stream",
     "text": [
      "smith\n",
      "russel\n",
      "sammy\n"
     ]
    }
   ],
   "source": [
    "#non-default Argument\n",
    "#====================\n",
    "\n",
    "\n",
    "def player(name):\n",
    "    print(name)\n",
    "    \n",
    "    \n",
    "player('smith')\n",
    "player('russel')\n",
    "player('sammy')\n",
    "\n"
   ]
  },
  {
   "cell_type": "code",
   "execution_count": 14,
   "id": "96fef06b",
   "metadata": {},
   "outputs": [
    {
     "name": "stdout",
     "output_type": "stream",
     "text": [
      "tilak\n",
      "<class 'str'>\n"
     ]
    }
   ],
   "source": [
    "def employee(name):\n",
    "    print(name)\n",
    "    print(type(name))\n",
    "    \n",
    "employee('tilak')"
   ]
  },
  {
   "cell_type": "code",
   "execution_count": 15,
   "id": "8351fb4a",
   "metadata": {},
   "outputs": [
    {
     "name": "stdout",
     "output_type": "stream",
     "text": [
      "enter the name : tilak\n",
      "tilak\n"
     ]
    }
   ],
   "source": [
    "def employee(name):\n",
    "    print(name)\n",
    "    \n",
    "employee(input('enter the name : '))"
   ]
  },
  {
   "cell_type": "code",
   "execution_count": 17,
   "id": "e81dd0cc",
   "metadata": {},
   "outputs": [
    {
     "name": "stdout",
     "output_type": "stream",
     "text": [
      "smith 20 sydney\n"
     ]
    }
   ],
   "source": [
    "def employee(name,age,city):\n",
    "    print(name,age,city)\n",
    "    \n",
    "employee('smith','20','sydney')"
   ]
  },
  {
   "cell_type": "code",
   "execution_count": 18,
   "id": "cb1abea8",
   "metadata": {},
   "outputs": [
    {
     "name": "stdout",
     "output_type": "stream",
     "text": [
      "name : tilak\n",
      "age : 20\n",
      "city : sydney\n",
      "tilak 20 sydney\n"
     ]
    }
   ],
   "source": [
    "employee(input('name : '),int(input('age : ')),input('city : '))\n",
    "                              "
   ]
  },
  {
   "cell_type": "code",
   "execution_count": 22,
   "id": "d7cf666c",
   "metadata": {},
   "outputs": [
    {
     "name": "stdout",
     "output_type": "stream",
     "text": [
      "enter the name :tilak\n",
      "enter the age :21\n",
      "enter the city :sohagpur\n",
      "tilak 21 sohagpur\n"
     ]
    }
   ],
   "source": [
    "n = input('enter the name :')\n",
    "a = int(input('enter the age :'))\n",
    "c = input('enter the city :')\n",
    "\n",
    "employee(n,a,c)"
   ]
  },
  {
   "cell_type": "code",
   "execution_count": 21,
   "id": "3106b224",
   "metadata": {},
   "outputs": [
    {
     "name": "stdout",
     "output_type": "stream",
     "text": [
      "30\n"
     ]
    }
   ],
   "source": [
    "def sum(a,b):\n",
    "    print(a+b)\n",
    "    \n",
    "sum(10,20)"
   ]
  },
  {
   "cell_type": "code",
   "execution_count": 23,
   "id": "9ed052fb",
   "metadata": {},
   "outputs": [
    {
     "name": "stdout",
     "output_type": "stream",
     "text": [
      "enter the 1st number : 45\n",
      "enter the 2nd number : 64\n",
      "109\n"
     ]
    }
   ],
   "source": [
    "aa = int(input('enter the 1st number : '))\n",
    "bb = int(input('enter the 2nd number : '))\n",
    "\n",
    "sum(aa,bb)"
   ]
  },
  {
   "cell_type": "code",
   "execution_count": 24,
   "id": "68d3ab08",
   "metadata": {},
   "outputs": [
    {
     "name": "stdout",
     "output_type": "stream",
     "text": [
      "tilak 21 sohagpur\n"
     ]
    }
   ],
   "source": [
    "#Default Argument\n",
    "#================\n",
    "\n",
    "def employee(name = 'tilak',age = '21',city = 'sohagpur'):\n",
    "    print(name,age,city)\n",
    "    \n",
    "employee()\n",
    "\n",
    "\n"
   ]
  },
  {
   "cell_type": "code",
   "execution_count": 25,
   "id": "013bf7cd",
   "metadata": {},
   "outputs": [
    {
     "name": "stdout",
     "output_type": "stream",
     "text": [
      "tilak 21 sohagpur\n"
     ]
    }
   ],
   "source": [
    "def employee(name,age,city = 'sohagpur'):\n",
    "    print(name,age,city)\n",
    "    \n",
    "employee('tilak','21')"
   ]
  },
  {
   "cell_type": "code",
   "execution_count": 27,
   "id": "9c25c4ba",
   "metadata": {},
   "outputs": [
    {
     "name": "stdout",
     "output_type": "stream",
     "text": [
      "smith\n"
     ]
    }
   ],
   "source": [
    "def employee(name = 'tilak'):\n",
    "    print(name)\n",
    "    \n",
    "employee('smith')"
   ]
  },
  {
   "cell_type": "code",
   "execution_count": 28,
   "id": "2945a5b0",
   "metadata": {},
   "outputs": [
    {
     "name": "stdout",
     "output_type": "stream",
     "text": [
      "tilak 21 sohagpur\n"
     ]
    }
   ],
   "source": [
    "def employee(age,city,name = 'tilak'):\n",
    "    print(name,age,city)\n",
    "    \n",
    "employee(21,'sohagpur')"
   ]
  },
  {
   "cell_type": "code",
   "execution_count": 29,
   "id": "c8775bc5",
   "metadata": {},
   "outputs": [
    {
     "name": "stdout",
     "output_type": "stream",
     "text": [
      "enter the name : tilak\n",
      "tilak\n"
     ]
    }
   ],
   "source": [
    "def employee(name = input('enter the name : ')):\n",
    "    print(name)\n",
    "    \n",
    "employee()"
   ]
  },
  {
   "cell_type": "code",
   "execution_count": 30,
   "id": "9ae89f2e",
   "metadata": {},
   "outputs": [
    {
     "name": "stdout",
     "output_type": "stream",
     "text": [
      "('smith',)\n",
      "<class 'tuple'>\n",
      "('russel', 21)\n",
      "<class 'tuple'>\n",
      "('sammy', 22, 'sydney')\n",
      "<class 'tuple'>\n"
     ]
    }
   ],
   "source": [
    "#ARGS\n",
    "#====\n",
    "\n",
    "def employee(*args):\n",
    "    print(args)\n",
    "    print(type(args))\n",
    "    \n",
    "employee('smith')\n",
    "employee('russel',21)\n",
    "employee('sammy',22,'sydney')"
   ]
  },
  {
   "cell_type": "code",
   "execution_count": 31,
   "id": "2213f476",
   "metadata": {},
   "outputs": [
    {
     "name": "stdout",
     "output_type": "stream",
     "text": [
      "{'name': 'smith'}\n",
      "<class 'dict'>\n"
     ]
    }
   ],
   "source": [
    "#KWARGS\n",
    "#======\n",
    "\n",
    "def employee(**kwargs):\n",
    "    print(kwargs)\n",
    "    print(type(kwargs))\n",
    "    \n",
    "    \n",
    "employee(name = 'smith')"
   ]
  },
  {
   "cell_type": "code",
   "execution_count": 33,
   "id": "a0b515f4",
   "metadata": {},
   "outputs": [
    {
     "name": "stdout",
     "output_type": "stream",
     "text": [
      "{'name': 'smith'}\n",
      "{'name': 'smith', 'age': 20, 'city': 'sydeny'}\n"
     ]
    }
   ],
   "source": [
    "def employee(**kwargs):\n",
    "    print(kwargs)\n",
    "    \n",
    "employee(name = 'smith')\n",
    "employee(name = 'smith',age = 20,city = 'sydeny')\n",
    "    \n",
    "    "
   ]
  },
  {
   "cell_type": "code",
   "execution_count": 34,
   "id": "3e738548",
   "metadata": {},
   "outputs": [
    {
     "name": "stdout",
     "output_type": "stream",
     "text": [
      "enter the name : tilak\n",
      "enter the age : 21\n",
      "enter the city : sohagpur\n",
      "{'name': 'tilak', 'age': 21, 'city': 'sohagpur'}\n"
     ]
    }
   ],
   "source": [
    "n = input('enter the name : ')\n",
    "a = int(input('enter the age : '))\n",
    "c = input('enter the city : ')\n",
    "\n",
    "\n",
    "def employee(**kwargs):\n",
    "    print(kwargs)\n",
    "    \n",
    "employee(name=n,age=a,city=c)"
   ]
  },
  {
   "cell_type": "code",
   "execution_count": 35,
   "id": "b5d68ca1",
   "metadata": {},
   "outputs": [
    {
     "name": "stdout",
     "output_type": "stream",
     "text": [
      "('smith', 21)\n",
      "{'name': 'Russel', 'age': 22, 'city': 'sohagpur'}\n"
     ]
    }
   ],
   "source": [
    "#ARGS &  KWARGS in same function\n",
    "#==============================\n",
    "\n",
    "\n",
    "def employee(*args,**kwargs):\n",
    "    print(args)\n",
    "    print(kwargs)\n",
    "    \n",
    "employee('smith',21,name = 'Russel',age=22,city = 'sohagpur')"
   ]
  },
  {
   "cell_type": "code",
   "execution_count": 5,
   "id": "050ab30f",
   "metadata": {},
   "outputs": [
    {
     "name": "stdout",
     "output_type": "stream",
     "text": [
      "20\n",
      "10\n"
     ]
    }
   ],
   "source": [
    "\n",
    "\n",
    "x = 10                #=> global variable\n",
    "\n",
    "def test():\n",
    "    y = 20            #=> local variables\n",
    "    print(y)\n",
    "    \n",
    "test()\n",
    "print(x)\n",
    "\n",
    "\n"
   ]
  },
  {
   "cell_type": "code",
   "execution_count": 3,
   "id": "178fad56",
   "metadata": {},
   "outputs": [
    {
     "name": "stdout",
     "output_type": "stream",
     "text": [
      "20\n"
     ]
    }
   ],
   "source": [
    "x = 10\n",
    "\n",
    "def test():\n",
    "    global x\n",
    "    x = 20\n",
    "    \n",
    "test()\n",
    "\n",
    "print(x)"
   ]
  },
  {
   "cell_type": "code",
   "execution_count": 5,
   "id": "e563e541",
   "metadata": {},
   "outputs": [
    {
     "name": "stdout",
     "output_type": "stream",
     "text": [
      "20\n",
      "5\n"
     ]
    }
   ],
   "source": [
    "x = 10\n",
    "\n",
    "\n",
    "def test():\n",
    "    global x\n",
    "    x = 20\n",
    "    print(x)\n",
    "    x = 5\n",
    "    print(x)\n",
    "    \n",
    "test()"
   ]
  },
  {
   "cell_type": "code",
   "execution_count": 17,
   "id": "d869aab3",
   "metadata": {},
   "outputs": [
    {
     "name": "stdout",
     "output_type": "stream",
     "text": [
      "830584\n"
     ]
    }
   ],
   "source": [
    "#Return statement\n",
    "#================\n",
    "\n",
    "\n",
    "def cube(value):\n",
    "    \n",
    "    return value*value*value\n",
    "    print('cybrom')\n",
    "    \n",
    "print(cube(94))"
   ]
  },
  {
   "cell_type": "code",
   "execution_count": 13,
   "id": "bf978f0c",
   "metadata": {},
   "outputs": [
    {
     "name": "stdout",
     "output_type": "stream",
     "text": [
      "1169564838832\n",
      "1169564838832\n"
     ]
    }
   ],
   "source": [
    "#Id\n",
    "#==\n",
    "\n",
    "\n",
    "name = 'cybrom'\n",
    "print(id(name))\n",
    "\n",
    "company = 'cybrom'\n",
    "print(id(company))"
   ]
  },
  {
   "cell_type": "code",
   "execution_count": 15,
   "id": "6dfdb459",
   "metadata": {},
   "outputs": [
    {
     "name": "stdout",
     "output_type": "stream",
     "text": [
      "1169484180048\n",
      "1169484180368\n"
     ]
    }
   ],
   "source": [
    "x = 10\n",
    "print(id(x))\n",
    "\n",
    "y = 20\n",
    "print(id(y))"
   ]
  },
  {
   "cell_type": "code",
   "execution_count": 1,
   "id": "54c85448",
   "metadata": {},
   "outputs": [
    {
     "name": "stdout",
     "output_type": "stream",
     "text": [
      "2252929657584\n",
      "15\n"
     ]
    }
   ],
   "source": [
    "def test():\n",
    "    global x\n",
    "    x = 15\n",
    "    print(id(x))\n",
    "    \n",
    "test()\n",
    "print(x)"
   ]
  },
  {
   "cell_type": "code",
   "execution_count": 2,
   "id": "8150f9bf",
   "metadata": {},
   "outputs": [
    {
     "name": "stdout",
     "output_type": "stream",
     "text": [
      "2252929657424\n",
      "2252929657744\n",
      "20\n",
      "15\n"
     ]
    }
   ],
   "source": [
    "x = 10\n",
    "print(id(x))\n",
    "\n",
    "\n",
    "def test():\n",
    "    x = 20\n",
    "    print(id(x))\n",
    "    globals()['x'] = 15\n",
    "    print(x)\n",
    "    \n",
    "test()\n",
    "print(x)"
   ]
  },
  {
   "cell_type": "code",
   "execution_count": 3,
   "id": "093b3f4e",
   "metadata": {},
   "outputs": [
    {
     "name": "stdout",
     "output_type": "stream",
     "text": [
      "2252929657424\n",
      "1 2 3\n",
      "100 200 300\n"
     ]
    }
   ],
   "source": [
    "x = 10\n",
    "y = 20\n",
    "z = 30\n",
    "\n",
    "print(id(x))\n",
    "\n",
    "def test():\n",
    "    globals()\n",
    "    x = 1\n",
    "    y = 2\n",
    "    z = 3\n",
    "    globals()['x'] = 100\n",
    "    globals()['y'] = 200\n",
    "    globals()['z'] = 300\n",
    "\n",
    "    print(x,y,z)\n",
    "    \n",
    "test()\n",
    "print(x,y,z)"
   ]
  },
  {
   "cell_type": "code",
   "execution_count": 11,
   "id": "ae75e59b",
   "metadata": {},
   "outputs": [
    {
     "name": "stdout",
     "output_type": "stream",
     "text": [
      "[1, 4, 9, 16, 25, 36, 49, 64, 81, 100]\n"
     ]
    }
   ],
   "source": [
    "num = [1,2,3,4,5,6,7,8,9,10]\n",
    "\n",
    "def square(num):\n",
    "    return num*num\n",
    "\n",
    "r = list(map(square,num))\n",
    "print(r)\n"
   ]
  },
  {
   "cell_type": "code",
   "execution_count": 10,
   "id": "3f1f6495",
   "metadata": {},
   "outputs": [
    {
     "name": "stdout",
     "output_type": "stream",
     "text": [
      "[100, 400, 900, 1600, 2500]\n",
      "<class 'list'>\n"
     ]
    }
   ],
   "source": [
    "r = list(map(square,[10,20,30,40,50]))\n",
    "print(r)\n",
    "print(type(r))"
   ]
  },
  {
   "cell_type": "code",
   "execution_count": 13,
   "id": "1ac22316",
   "metadata": {},
   "outputs": [
    {
     "name": "stdout",
     "output_type": "stream",
     "text": [
      "[1, 4, 9, 16, 25]\n"
     ]
    }
   ],
   "source": [
    "item1 = [1,2,3,4,5]\n",
    "\n",
    "def square(x):\n",
    "    return x*x\n",
    "\n",
    "r = list(map(square,item1))\n",
    "print(r)"
   ]
  },
  {
   "cell_type": "code",
   "execution_count": 2,
   "id": "214cacfc",
   "metadata": {},
   "outputs": [
    {
     "name": "stdout",
     "output_type": "stream",
     "text": [
      "[2, 4, 6, 8, 10, 12]\n"
     ]
    }
   ],
   "source": [
    "#Filter\n",
    "\n",
    "def even(x):\n",
    "    return x%2==0\n",
    "\n",
    "r = list(filter(even,(1,2,3,4,5,6,7,8,9,10,11,12)))\n",
    "print(r)"
   ]
  },
  {
   "cell_type": "code",
   "execution_count": 5,
   "id": "98527b92",
   "metadata": {},
   "outputs": [
    {
     "name": "stdout",
     "output_type": "stream",
     "text": [
      "55\n",
      "<class 'int'>\n"
     ]
    }
   ],
   "source": [
    "\n",
    "def sum(x,y):\n",
    "    return x+y\n",
    "\n",
    "from functools import reduce\n",
    "\n",
    "r = reduce(sum,[1,2,3,4,5,6,7,8,9,10])\n",
    "print(r)\n",
    "print(type(r))"
   ]
  },
  {
   "cell_type": "code",
   "execution_count": 6,
   "id": "8f962cc5",
   "metadata": {},
   "outputs": [],
   "source": [
    "x = open('tilak.txt','w')"
   ]
  },
  {
   "cell_type": "code",
   "execution_count": 7,
   "id": "9bfd49c0",
   "metadata": {},
   "outputs": [
    {
     "data": {
      "text/plain": [
       "22"
      ]
     },
     "execution_count": 7,
     "metadata": {},
     "output_type": "execute_result"
    }
   ],
   "source": [
    "x.write('this is the first line')"
   ]
  },
  {
   "cell_type": "code",
   "execution_count": 8,
   "id": "5b62a7fc",
   "metadata": {},
   "outputs": [],
   "source": [
    "x.close()"
   ]
  },
  {
   "cell_type": "code",
   "execution_count": 10,
   "id": "c1e1b72c",
   "metadata": {},
   "outputs": [],
   "source": [
    "x = open('tilak.txt','r')"
   ]
  },
  {
   "cell_type": "code",
   "execution_count": 11,
   "id": "e68f9b93",
   "metadata": {},
   "outputs": [
    {
     "data": {
      "text/plain": [
       "'this is the first line'"
      ]
     },
     "execution_count": 11,
     "metadata": {},
     "output_type": "execute_result"
    }
   ],
   "source": [
    "x.read()"
   ]
  },
  {
   "cell_type": "code",
   "execution_count": 12,
   "id": "a03e77f0",
   "metadata": {},
   "outputs": [],
   "source": [
    "x.close()"
   ]
  },
  {
   "cell_type": "code",
   "execution_count": 13,
   "id": "93a703e5",
   "metadata": {},
   "outputs": [
    {
     "name": "stdout",
     "output_type": "stream",
     "text": [
      "this is the first line\n"
     ]
    }
   ],
   "source": [
    "f = open('tilak.txt')\n",
    "print(f.read())"
   ]
  },
  {
   "cell_type": "code",
   "execution_count": 17,
   "id": "456d1e02",
   "metadata": {},
   "outputs": [
    {
     "data": {
      "text/plain": [
       "'this '"
      ]
     },
     "execution_count": 17,
     "metadata": {},
     "output_type": "execute_result"
    }
   ],
   "source": [
    "f = open('python code.txt' )\n",
    "f.read(5)\n"
   ]
  },
  {
   "cell_type": "code",
   "execution_count": 12,
   "id": "4ab40927",
   "metadata": {},
   "outputs": [
    {
     "name": "stdout",
     "output_type": "stream",
     "text": [
      "24\n"
     ]
    }
   ],
   "source": [
    "f = open('shreyank.txt', 'w')\n",
    "a = f.write('bade bhai bht ache hein\\n')\n",
    "print(a)\n",
    "f.close()\n"
   ]
  },
  {
   "cell_type": "code",
   "execution_count": null,
   "id": "30474e1e",
   "metadata": {},
   "outputs": [],
   "source": [
    "# File Handling\n",
    "# =============\n",
    "\n",
    "# Method => read() readline() readlines() write() close()\n",
    "\n",
    "#f = open('e:/python/document.txt' , 'r')\n",
    "\n",
    "# reading file\n",
    "# ------------\n",
    "\n",
    "#read()                          # => read() gives result in string\n",
    "#-----\n",
    "#print(f.read())\n",
    "\n",
    "r = f.read()\n",
    "print(r)\n",
    "print(type(r))\n",
    "\n",
    "#readline()\n",
    "#---------\n",
    "\n",
    "print(f.readline())\n",
    "print(f.readline())\n",
    "print(f.readline())\n",
    "\n",
    "r = f.readline()\n",
    "print(r)\n",
    "print(type(r))\n",
    "\n",
    "#print(f.readlines())\n",
    "#--------------------\n",
    "\n",
    "r = f.readlines()\n",
    "print(r)\n",
    "print(type(r))\n",
    "print(r[3])\n",
    "print(r[3:6])\n",
    "#-----------------------------------------------------------------------------\n",
    "\n"
   ]
  },
  {
   "cell_type": "code",
   "execution_count": null,
   "id": "7d44fd99",
   "metadata": {},
   "outputs": [],
   "source": []
  },
  {
   "cell_type": "code",
   "execution_count": null,
   "id": "5f83698f",
   "metadata": {},
   "outputs": [],
   "source": []
  }
 ],
 "metadata": {
  "kernelspec": {
   "display_name": "Python 3 (ipykernel)",
   "language": "python",
   "name": "python3"
  },
  "language_info": {
   "codemirror_mode": {
    "name": "ipython",
    "version": 3
   },
   "file_extension": ".py",
   "mimetype": "text/x-python",
   "name": "python",
   "nbconvert_exporter": "python",
   "pygments_lexer": "ipython3",
   "version": "3.9.7"
  }
 },
 "nbformat": 4,
 "nbformat_minor": 5
}
